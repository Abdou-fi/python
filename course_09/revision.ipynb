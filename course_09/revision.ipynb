{
 "cells": [
  {
   "cell_type": "markdown",
   "id": "2031c076",
   "metadata": {},
   "source": [
    "a quick revision of the pandas library\n",
    "- installin             --> OK\n",
    "- importing             --> OK\n",
    "- Pandas series         --> 1 dimension data (a sequence)\n",
    "- Pandas Dataframes     --> 2 dimensions table (like a spreadsheet)\n",
    "- Reading CSV files     --> \n",
    "- Reading JSON files    --> \n",
    "- Quick data analysis   --> \n"
   ]
  }
 ],
 "metadata": {
  "language_info": {
   "name": "python"
  }
 },
 "nbformat": 4,
 "nbformat_minor": 5
}
