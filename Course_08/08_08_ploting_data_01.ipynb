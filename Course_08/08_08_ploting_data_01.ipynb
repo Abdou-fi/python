{
 "cells": [
  {
   "cell_type": "markdown",
   "id": "b1e842d2",
   "metadata": {},
   "source": [
    "Pandas uses the plot() method to create diagrams.\n",
    "We can use Pyplot, a submodule of the Matplotlib library to visualize the diagram on the screen.\n",
    "Read more about Matplotlib in our Matplotlib Tutorial."
   ]
  },
  {
   "cell_type": "code",
   "execution_count": null,
   "id": "f8d90401",
   "metadata": {},
   "outputs": [],
   "source": [
    "# Import pyplot from Matplotlib and visualize our DataFrame:\n",
    "import pandas as pd\n",
    "import matplotlib.pyplot as plt\n",
    "df = pd.read_csv('data.csv')\n",
    "df.plot()\n",
    "plt.show()"
   ]
  },
  {
   "cell_type": "markdown",
   "id": "2c8d4f5b",
   "metadata": {},
   "source": [
    "Scatter Plot\n",
    "Specify that you want a scatter plot with the kind argument:\n",
    "kind = 'scatter'\n",
    "A scatter plot needs an x- and a y-axis.\n",
    "In the example below we will use \"Duration\" for the x-axis and \"Calories\" for the y-axis.\n",
    "Include the x and y arguments like this:\n",
    "x = 'Duration', y = 'Calories'"
   ]
  },
  {
   "cell_type": "code",
   "execution_count": null,
   "id": "e4693ad6",
   "metadata": {},
   "outputs": [],
   "source": [
    "df.plot(kind = 'scatter', x = 'Duration', y = 'Calories')\n",
    "plt.show()"
   ]
  },
  {
   "cell_type": "markdown",
   "id": "18815133",
   "metadata": {},
   "source": [
    "Remember: In the previous example, the correlation between \"Duration\" and \"Calories\" is 0.922721, and we concluded with the fact that higher duration means more calories burned.\n",
    "\n",
    "Let's create another scatterplot, where there is a bad relationship between the columns, like \"Duration\" and \"Maxpulse\", with the correlation 0.009403:\n"
   ]
  },
  {
   "cell_type": "code",
   "execution_count": null,
   "id": "e78e93c0",
   "metadata": {},
   "outputs": [],
   "source": [
    "df.plot(kind = 'scatter', x = 'Duration', y = 'Maxpulse')\n",
    "plt.show()"
   ]
  },
  {
   "cell_type": "markdown",
   "id": "6ce32473",
   "metadata": {},
   "source": [
    "Histogram\n",
    "Use the kind argument to specify that you want a histogram:\n",
    "\n",
    "kind = 'hist'\n",
    "\n",
    "A histogram needs only one column.\n",
    "\n",
    "A histogram shows us the frequency of each interval, e.g. how many workouts lasted between 50 and 60 minutes?\n",
    "\n",
    "In the example below we will use the \"Duration\" column to create the histogram:"
   ]
  },
  {
   "cell_type": "code",
   "execution_count": 7,
   "id": "4b0e3a8b",
   "metadata": {},
   "outputs": [
    {
     "data": {
      "text/plain": [
       "<Axes: ylabel='Frequency'>"
      ]
     },
     "execution_count": 7,
     "metadata": {},
     "output_type": "execute_result"
    },
    {
     "data": {
      "image/png": "[encoded data removed]",
      "text/plain": [
       "<Figure size 640x480 with 1 Axes>"
      ]
     },
     "metadata": {},
     "output_type": "display_data"
    }
   ],
   "source": [
    "df[\"Duration\"].plot(kind = 'hist')\n"
   ]
  }
 ],
 "metadata": {
  "kernelspec": {
   "display_name": ".venv",
   "language": "python",
   "name": "python3"
  },
  "language_info": {
   "codemirror_mode": {
    "name": "ipython",
    "version": 3
   },
   "file_extension": ".py",
   "mimetype": "text/x-python",
   "name": "python",
   "nbconvert_exporter": "python",
   "pygments_lexer": "ipython3",
   "version": "3.13.5"
  }
 },
 "nbformat": 4,
 "nbformat_minor": 5
}
