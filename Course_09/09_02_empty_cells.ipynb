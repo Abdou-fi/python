{
 "cells": [
  {
   "cell_type": "markdown",
   "id": "a03e02e4",
   "metadata": {},
   "source": [
    "Empty Cells\n",
    "Empty cells can potentially give you a wrong result when you analyze data.\n",
    "\n",
    "Remove Rows\n",
    "One way to deal with empty cells is to remove rows that contain empty cells.\n",
    "\n",
    "This is usually OK, since data sets can be very big, and removing a few rows will not have a big impact on the result."
   ]
  },
  {
   "cell_type": "code",
   "execution_count": null,
   "id": "66f7437d",
   "metadata": {},
   "outputs": [],
   "source": [
    "import pandas as pd\n",
    "df = pd.read_csv('data1.csv')\n",
    "new_df = df.dropna()\n",
    "print(new_df.to_string())\n",
    "#print(new_df.tail(10))"
   ]
  },
  {
   "cell_type": "markdown",
   "id": "e912fdac",
   "metadata": {},
   "source": [
    "Note: By default, the dropna() method returns a new DataFrame, and will not change the original.\n",
    "\n",
    "If you want to change the original DataFrame, use the inplace = True argument:"
   ]
  },
  {
   "cell_type": "code",
   "execution_count": 17,
   "id": "c5c84bfc",
   "metadata": {},
   "outputs": [
    {
     "name": "stdout",
     "output_type": "stream",
     "text": [
      "    Duration          Date  Pulse  Maxpulse  Calories\n",
      "0         60  '2020/12/01'    110       130     409.1\n",
      "1         60  '2020/12/02'    117       145     479.0\n",
      "2         60  '2020/12/03'    103       135     340.0\n",
      "3         45  '2020/12/04'    109       175     282.4\n",
      "4         45  '2020/12/05'    117       148     406.0\n",
      "5         60  '2020/12/06'    102       127     300.0\n",
      "6         60  '2020/12/07'    110       136     374.0\n",
      "7        450  '2020/12/08'    104       134     253.3\n",
      "8         30  '2020/12/09'    109       133     195.1\n",
      "9         60  '2020/12/10'     98       124     269.0\n",
      "10        60  '2020/12/11'    103       147     329.3\n",
      "11        60  '2020/12/12'    100       120     250.7\n",
      "12        60  '2020/12/12'    100       120     250.7\n",
      "13        60  '2020/12/13'    106       128     345.3\n",
      "14        60  '2020/12/14'    104       132     379.3\n",
      "15        60  '2020/12/15'     98       123     275.0\n",
      "16        60  '2020/12/16'     98       120     215.2\n",
      "17        60  '2020/12/17'    100       120     300.0\n",
      "19        60  '2020/12/19'    103       123     323.0\n",
      "20        45  '2020/12/20'     97       125     243.0\n",
      "21        60  '2020/12/21'    108       131     364.2\n",
      "23        60  '2020/12/23'    130       101     300.0\n",
      "24        45  '2020/12/24'    105       132     246.0\n",
      "25        60  '2020/12/25'    102       126     334.5\n",
      "26        60    2020-12-26    100       120     250.0\n",
      "27        60  '2020/12/27'     92       118     241.0\n",
      "29        60  '2020/12/29'    100       132     280.0\n",
      "30        60  '2020/12/30'    102       129     380.3\n",
      "31        60  '2020/12/31'     92       115     243.0\n"
     ]
    }
   ],
   "source": [
    "# Remove all rows with NULL values:\n",
    "\n",
    "import pandas as pd\n",
    "df = pd.read_csv('data2.csv')\n",
    "df.dropna(inplace = True)\n",
    "print(df.to_string())"
   ]
  },
  {
   "cell_type": "markdown",
   "id": "dbccaa00",
   "metadata": {},
   "source": [
    "Replace Empty Values\n",
    "Another way of dealing with empty cells is to insert a new value instead.\n",
    "\n",
    "This way you do not have to delete entire rows just because of some empty cells.\n",
    "\n",
    "The fillna() method allows us to replace empty cells with a value:"
   ]
  },
  {
   "cell_type": "code",
   "execution_count": null,
   "id": "bd0cd08e",
   "metadata": {},
   "outputs": [],
   "source": [
    "# Replace NULL values with the number 130:\n",
    "\n",
    "import pandas as pd\n",
    "df = pd.read_csv('data2.csv')\n",
    "df.fillna(130, inplace = True)\n",
    "print(df.to_string())"
   ]
  },
  {
   "cell_type": "markdown",
   "id": "099b6401",
   "metadata": {},
   "source": [
    "Replace Only For Specified Columns\n",
    "The example above replaces all empty cells in the whole Data Frame.\n",
    "\n",
    "To only replace empty values for one column, specify the column name for the DataFrame:\n",
    "\n",
    "Example\n",
    "Replace NULL values in the \"Calories\" columns with the number 130:"
   ]
  },
  {
   "cell_type": "code",
   "execution_count": null,
   "id": "c39499ec",
   "metadata": {},
   "outputs": [],
   "source": [
    "# Replace NULL values in the \"Calories\" columns with the number 130:\n",
    "import pandas as pd\n",
    "df = pd.read_csv('data1.csv')\n",
    "df.fillna({\"Calories\": 130}, inplace=True)"
   ]
  },
  {
   "cell_type": "markdown",
   "id": "58ef77d0",
   "metadata": {},
   "source": [
    "Replace Using Mean, Median, or Mode\n",
    "A common way to replace empty cells, is to calculate the mean, median or mode value of the column.\n",
    "\n",
    "Pandas uses the mean() median() and mode() methods to calculate the respective values for a specified column:"
   ]
  },
  {
   "cell_type": "code",
   "execution_count": null,
   "id": "09c08765",
   "metadata": {},
   "outputs": [],
   "source": [
    "# Calculate the MEAN, and replace any empty values with it:\n",
    "\n",
    "import pandas as pd\n",
    "df = pd.read_csv('data.csv')\n",
    "x = df[\"Calories\"].mean()\n",
    "df.fillna({\"Calories\": x}, inplace=True)"
   ]
  },
  {
   "cell_type": "code",
   "execution_count": null,
   "id": "6143dfe2",
   "metadata": {},
   "outputs": [],
   "source": [
    "# Calculate the MEDIAN, and replace any empty values with it:\n",
    "# Median = the value in the middle, after you have sorted all values ascending.\n",
    "\n",
    "import pandas as pd\n",
    "df = pd.read_csv('data1.csv')\n",
    "x = df[\"Calories\"].median()\n",
    "df.fillna({\"Calories\": x}, inplace=True)"
   ]
  },
  {
   "cell_type": "code",
   "execution_count": 21,
   "id": "0fc42ab6",
   "metadata": {},
   "outputs": [
    {
     "name": "stdout",
     "output_type": "stream",
     "text": [
      "    Duration          Date  Pulse  Maxpulse  Calories\n",
      "0         60  '2020/12/01'    110       130     409.1\n",
      "1         60  '2020/12/02'    117       145     479.0\n",
      "2         60  '2020/12/03'    103       135     340.0\n",
      "3         45  '2020/12/04'    109       175     282.4\n",
      "4         45  '2020/12/05'    117       148     406.0\n",
      "5         60  '2020/12/06'    102       127     300.0\n",
      "6         60  '2020/12/07'    110       136     374.0\n",
      "7        450  '2020/12/08'    104       134     253.3\n",
      "8         30  '2020/12/09'    109       133     195.1\n",
      "9         60  '2020/12/10'     98       124     269.0\n",
      "10        60  '2020/12/11'    103       147     329.3\n",
      "11        60  '2020/12/12'    100       120     250.7\n",
      "12        60  '2020/12/12'    100       120     250.7\n",
      "13        60  '2020/12/13'    106       128     345.3\n",
      "14        60  '2020/12/14'    104       132     379.3\n",
      "15        60  '2020/12/15'     98       123     275.0\n",
      "16        60  '2020/12/16'     98       120     215.2\n",
      "17        60  '2020/12/17'    100       120     300.0\n",
      "18        45  '2020/12/18'     90       112     300.0\n",
      "19        60  '2020/12/19'    103       123     323.0\n",
      "20        45  '2020/12/20'     97       125     243.0\n",
      "21        60  '2020/12/21'    108       131     364.2\n",
      "22        45           NaN    100       119     282.0\n",
      "23        60  '2020/12/23'    130       101     300.0\n",
      "24        45  '2020/12/24'    105       132     246.0\n",
      "25        60  '2020/12/25'    102       126     334.5\n",
      "26        60    2020-12-26    100       120     250.0\n",
      "27        60  '2020/12/27'     92       118     241.0\n",
      "28        60  '2020/12/28'    103       132     300.0\n",
      "29        60  '2020/12/29'    100       132     280.0\n",
      "30        60  '2020/12/30'    102       129     380.3\n",
      "31        60  '2020/12/31'     92       115     243.0\n"
     ]
    }
   ],
   "source": [
    "# Calculate the MODE, and replace any empty values with it:\n",
    "# Mode = the value that appears most frequently.\n",
    "\n",
    "import pandas as pd\n",
    "df = pd.read_csv('data1.csv')\n",
    "x = df[\"Calories\"].mode()[0]\n",
    "df.fillna({\"Calories\": x}, inplace=True)\n",
    "print(df) \n"
   ]
  }
 ],
 "metadata": {
  "kernelspec": {
   "display_name": ".venv",
   "language": "python",
   "name": "python3"
  },
  "language_info": {
   "codemirror_mode": {
    "name": "ipython",
    "version": 3
   },
   "file_extension": ".py",
   "mimetype": "text/x-python",
   "name": "python",
   "nbconvert_exporter": "python",
   "pygments_lexer": "ipython3",
   "version": "3.13.5"
  }
 },
 "nbformat": 4,
 "nbformat_minor": 5
}
