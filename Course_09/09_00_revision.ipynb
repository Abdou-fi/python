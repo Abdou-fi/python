{
 "cells": [
  {
   "cell_type": "markdown",
   "id": "ad13f577",
   "metadata": {},
   "source": [
    "A quick revision of the pandas library\n",
    "- installing            --> OK   (pip install pandas)\n",
    "- importing             --> OK   (import pandas as pd)   \n",
    "- Pandas Series         --> 1 dimension data (a sequence)\n",
    "- Pandas DataFrames     --> 2 dimensions (columns as variables)\n",
    "- Read CSV files        --> \n",
    "- Read JSON files       --> "
   ]
  },
  {
   "cell_type": "code",
   "execution_count": null,
   "id": "6230edd8",
   "metadata": {},
   "outputs": [],
   "source": [
    "# Create a simple Pandas Series from a list:\n",
    "import pandas as pd\n",
    "a = [1, 7, 2, 9]\n",
    "\n",
    "myvar = pd.Series(a)\n",
    "print(myvar)\n",
    "print(myvar[0])"
   ]
  },
  {
   "cell_type": "code",
   "execution_count": null,
   "id": "ffd1246b",
   "metadata": {},
   "outputs": [],
   "source": [
    "# Create a simple Pandas Series from a list:\n",
    "# With the index argument, you can name your own labels.\n",
    "import pandas as pd\n",
    "a = [1, 7, 2]\n",
    "myvar = pd.Series(a, index = [\"x\", \"y\", \"z\"])\n",
    "print(myvar)\n",
    "print(\"\\n ==========================================\\n \")\n",
    "#When you have created labels, you can access an item by referring to the label.\n",
    "print(myvar[\"y\"])"
   ]
  },
  {
   "cell_type": "code",
   "execution_count": null,
   "id": "6120a501",
   "metadata": {},
   "outputs": [],
   "source": [
    "# Create a simple Pandas Series from a dictionary:\n",
    "# Note: The keys of the dictionary become the labels.\n",
    "import pandas as pd\n",
    "calories = {\"day1\": 420, \"day2\": 380, \"day3\": 390}\n",
    "myvar = pd.Series(calories)\n",
    "print(myvar)\n",
    "# To select only some of the items in the dictionary, \n",
    "# use the index argument and specify only the items you want to include in the Series.\n",
    "print(\"\\n ==========================================\\n \")\n",
    "myvar2 = pd.Series(calories, index = [\"day1\", \"day2\"])\n",
    "print(myvar2)\n",
    "print(\"\\n ==========================================\\n \")\n"
   ]
  },
  {
   "cell_type": "code",
   "execution_count": null,
   "id": "dfb05c5f",
   "metadata": {},
   "outputs": [],
   "source": [
    "# Data sets in Pandas are usually multi-dimensional tables, called DataFrames.\n",
    "# Series is like a column, a DataFrame is the whole table.\n",
    "# Create a DataFrame from two Series:\n",
    "import pandas as pd\n",
    "data = {\n",
    "  \"calories\": [420, 380, 390],\n",
    "  \"duration\": [50, 40, 45]\n",
    "}\n",
    "myvar = pd.DataFrame(data)\n",
    "print(myvar)"
   ]
  },
  {
   "cell_type": "code",
   "execution_count": null,
   "id": "e1dc5282",
   "metadata": {},
   "outputs": [],
   "source": [
    "import pandas as pd\n",
    "\n",
    "#Create a simple Pandas dataframe:\n",
    "\n",
    "data = {\n",
    "  \"calories\": [420, 380, 390],\n",
    "  \"duration\": [50, 40, 45]\n",
    "}\n",
    "\n",
    "#load data into a DataFrame object:\n",
    "df = pd.DataFrame(data)\n",
    "print(df) "
   ]
  },
  {
   "cell_type": "code",
   "execution_count": null,
   "id": "fc0b7f52",
   "metadata": {},
   "outputs": [],
   "source": [
    "import pandas as pd\n",
    "data = {\n",
    "  \"calories\": [420, 380, 390],\n",
    "  \"duration\": [50, 40, 45]\n",
    "}\n",
    "df = pd.DataFrame(data)\n",
    "print(df) \n",
    "print(\"\\n ==========================================\\n \")\n",
    "\n",
    "# Pandas use the loc attribute to return one or more specified row(s)\n",
    "# refer to the row index:\n",
    "print(df.loc[0])   # Note: This example returns a Pandas Series.\n",
    "\n"
   ]
  },
  {
   "cell_type": "code",
   "execution_count": null,
   "id": "1949344a",
   "metadata": {},
   "outputs": [],
   "source": [
    "# Named Indexes\n",
    "# With the index argument, you can name your own indexes.\n",
    "# Add a list of names to give each row a name:\n",
    "import pandas as pd\n",
    "data = {\n",
    "  \"calories\": [420.9, 380.7, 390.4],\n",
    "  \"duration\": [50, 40, 45]\n",
    "}\n",
    "\n",
    "df = pd.DataFrame(data, index = [\"day1\", \"day2\", \"day3\"])\n",
    "\n",
    "print(df) \n",
    "\n",
    "print(\"\\n ==========================================\\n \")\n",
    "#refer to the named index:\n",
    "print(df.loc['day3'])"
   ]
  },
  {
   "cell_type": "code",
   "execution_count": null,
   "id": "428ed5ed",
   "metadata": {},
   "outputs": [],
   "source": [
    "# Load a comma separated file (CSV file) into a DataFrame:\n",
    "import pandas as pd\n",
    "df = pd.read_csv('data.csv')\n",
    "print(df) \n"
   ]
  },
  {
   "cell_type": "code",
   "execution_count": null,
   "id": "1d1d5289",
   "metadata": {},
   "outputs": [],
   "source": [
    "# max_rows \n",
    "# The number of rows returned is defined in Pandas option settings.\n",
    "# You can check your system's maximum rows with the pd.options.display.max_rows statement. \n",
    "\n",
    "import pandas as pd\n",
    "print(pd.options.display.max_rows) \n",
    "# You can change the maximum rows number with the same statement.\n",
    "pd.options.display.max_rows = 9999\n",
    "df = pd.read_csv('data.csv')\n",
    "print(df) "
   ]
  },
  {
   "cell_type": "code",
   "execution_count": null,
   "id": "e4d3b3b2",
   "metadata": {},
   "outputs": [],
   "source": [
    "import pandas as pd\n",
    "df = pd.read_csv('data.csv')\n",
    "print(df) \n",
    "print(\"\\n ==========================================\\n\")\n",
    "print(df)\n",
    "\n",
    "print(pd.options.display.max_rows) "
   ]
  },
  {
   "cell_type": "code",
   "execution_count": null,
   "id": "957f66b3",
   "metadata": {},
   "outputs": [],
   "source": [
    "import pandas as pd\n",
    "df = pd.read_json('data.json')\n",
    "print(df) "
   ]
  },
  {
   "cell_type": "code",
   "execution_count": null,
   "id": "b7817959",
   "metadata": {},
   "outputs": [],
   "source": [
    "# JSON = Python Dictionary\n",
    "# JSON objects have the same format as Python dictionaries.\n",
    "# If your JSON code is not in a file, but in a Python Dictionary, \n",
    "# you can load it into a DataFrame directly:\n",
    "\n",
    "# Load a Python Dictionary into a DataFrame:\n",
    "\n",
    "import pandas as pd\n",
    "data = {\n",
    "  \"Duration\":{\n",
    "    \"0\":60,\n",
    "    \"1\":60,\n",
    "    \"2\":60,\n",
    "    \"3\":45,\n",
    "    \"4\":45,\n",
    "    \"5\":60\n",
    "  },\n",
    "  \"Pulse\":{\n",
    "    \"0\":110,\n",
    "    \"1\":117,\n",
    "    \"2\":103,\n",
    "    \"3\":109,\n",
    "    \"4\":117,\n",
    "    \"5\":102\n",
    "  },\n",
    "  \"Maxpulse\":{\n",
    "    \"0\":130,\n",
    "    \"1\":145,\n",
    "    \"2\":135,\n",
    "    \"3\":175,\n",
    "    \"4\":148,\n",
    "    \"5\":127\n",
    "  },\n",
    "  \"Calories\":{\n",
    "    \"0\":409,\n",
    "    \"1\":479,\n",
    "    \"2\":340,\n",
    "    \"3\":282,\n",
    "    \"4\":406,\n",
    "    \"5\":300\n",
    "  }\n",
    "}\n",
    "df = pd.DataFrame(data)\n",
    "print(df)"
   ]
  },
  {
   "cell_type": "code",
   "execution_count": null,
   "id": "e830fd7b",
   "metadata": {},
   "outputs": [],
   "source": [
    "# Pandas - Analyzing DataFrames\n",
    "# Viewing the Data \n",
    "# One of the most used method for getting a quick overview of the DataFrame, is the head() method.\n",
    "# The head() method returns the headers and a specified number of rows, starting from the top.\n",
    "\n",
    "# Get a quick overview by printing the first 10 rows of the DataFrame:\n",
    "import pandas as pd\n",
    "df = pd.read_csv('data.csv')\n",
    "print(df.head(10))\n",
    "\n",
    "# Note: if the number of rows is not specified, the head() method will return the top 5 rows.\n",
    "print(\"\\n ==========================================\\n\")\n",
    "df2 = pd.read_csv('data.csv')\n",
    "print(df2.head())"
   ]
  },
  {
   "cell_type": "code",
   "execution_count": null,
   "id": "4107bec4",
   "metadata": {},
   "outputs": [],
   "source": [
    "# There is also a tail() method for viewing the last rows of the DataFrame.\n",
    "# The tail() method returns the headers and a specified number of rows, starting from the bottom.\n",
    "import pandas as pd\n",
    "df = pd.read_csv('data.csv')\n",
    "print(df.tail()) \n"
   ]
  },
  {
   "cell_type": "code",
   "execution_count": null,
   "id": "4e480994",
   "metadata": {},
   "outputs": [],
   "source": [
    "# Info About the Data\n",
    "# The DataFrames object has a method called info(), \n",
    "# that gives you more information about the data set.\n",
    "\n",
    "import pandas as pd\n",
    "df = pd.read_csv('data.csv')\n",
    "print(df.info())\n"
   ]
  },
  {
   "cell_type": "code",
   "execution_count": null,
   "id": "4d210847",
   "metadata": {},
   "outputs": [],
   "source": [
    "# Import pyplot from Matplotlib and visualize our DataFrame:\n",
    "import pandas as pd\n",
    "import matplotlib.pyplot as plt\n",
    "df = pd.read_csv('data.csv')\n",
    "df.plot()\n",
    "plt.show()"
   ]
  },
  {
   "cell_type": "code",
   "execution_count": null,
   "id": "1b6d6b5b",
   "metadata": {},
   "outputs": [],
   "source": [
    "df.plot(kind ='scatter', x = 'Duration', y = 'Calories')\n",
    "plt.show()"
   ]
  },
  {
   "cell_type": "code",
   "execution_count": null,
   "id": "b37c8c2e",
   "metadata": {},
   "outputs": [],
   "source": [
    "df.plot(kind = 'scatter', x = 'Duration', y = 'Maxpulse')\n",
    "plt.show()"
   ]
  },
  {
   "cell_type": "code",
   "execution_count": null,
   "id": "1e31a2ff",
   "metadata": {},
   "outputs": [],
   "source": [
    "df[\"Duration\"].plot(kind = 'hist')\n"
   ]
  }
 ],
 "metadata": {
  "kernelspec": {
   "display_name": ".venv",
   "language": "python",
   "name": "python3"
  },
  "language_info": {
   "codemirror_mode": {
    "name": "ipython",
    "version": 3
   },
   "file_extension": ".py",
   "mimetype": "text/x-python",
   "name": "python",
   "nbconvert_exporter": "python",
   "pygments_lexer": "ipython3",
   "version": "3.13.5"
  }
 },
 "nbformat": 4,
 "nbformat_minor": 5
}
